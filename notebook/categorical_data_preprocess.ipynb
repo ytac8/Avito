{
 "cells": [
  {
   "cell_type": "code",
   "execution_count": 2,
   "metadata": {},
   "outputs": [],
   "source": [
    "import pandas as pd\n",
    "import numpy as np\n",
    "from sklearn.preprocessing import LabelEncoder"
   ]
  },
  {
   "cell_type": "code",
   "execution_count": 3,
   "metadata": {},
   "outputs": [],
   "source": [
    "train = pd.read_csv('../data/unzipped/train.csv')\n",
    "test = pd.read_csv('../data/unzipped/test.csv')"
   ]
  },
  {
   "cell_type": "markdown",
   "metadata": {},
   "source": [
    "## ラベルエンコードしていく"
   ]
  },
  {
   "cell_type": "code",
   "execution_count": 4,
   "metadata": {},
   "outputs": [],
   "source": [
    "param_le = LabelEncoder()\n",
    "category_name_le = LabelEncoder()\n",
    "region_le = LabelEncoder()\n",
    "city_le = LabelEncoder()\n",
    "user_id_le = LabelEncoder()\n",
    "user_type_le = LabelEncoder()"
   ]
  },
  {
   "cell_type": "code",
   "execution_count": 5,
   "metadata": {},
   "outputs": [],
   "source": [
    "image_top_le = LabelEncoder()"
   ]
  },
  {
   "cell_type": "code",
   "execution_count": 6,
   "metadata": {},
   "outputs": [],
   "source": [
    "catted = pd.concat([train,test])"
   ]
  },
  {
   "cell_type": "code",
   "execution_count": 7,
   "metadata": {},
   "outputs": [
    {
     "data": {
      "text/plain": [
       "LabelEncoder()"
      ]
     },
     "execution_count": 7,
     "metadata": {},
     "output_type": "execute_result"
    }
   ],
   "source": [
    "category_name_le.fit(catted.category_name)\n",
    "region_le.fit(catted.region)\n",
    "city_le.fit(catted.city)\n",
    "user_id_le.fit(catted.user_id)\n",
    "user_type_le.fit(catted.user_type)"
   ]
  },
  {
   "cell_type": "code",
   "execution_count": 8,
   "metadata": {},
   "outputs": [],
   "source": [
    "train.category_name = category_name_le.transform(train.category_name)\n",
    "train.region = region_le.transform(train.region)\n",
    "train.city = city_le.transform(train.city)\n",
    "train.user_id = user_id_le.transform(train.user_id)\n",
    "train.user_type = user_type_le.transform(train.user_type)\n",
    "\n",
    "test.region = region_le.transform(test.region)\n",
    "test.city = city_le.transform(test.city)\n",
    "test.user_id = user_id_le.transform(test.user_id)\n",
    "test.user_type = user_type_le.transform(test.user_type)"
   ]
  },
  {
   "cell_type": "code",
   "execution_count": 9,
   "metadata": {},
   "outputs": [
    {
     "data": {
      "text/plain": [
       "LabelEncoder()"
      ]
     },
     "execution_count": 9,
     "metadata": {},
     "output_type": "execute_result"
    }
   ],
   "source": [
    "catted.image_top_1.fillna(-1, inplace=True)\n",
    "train.image_top_1.fillna(-1, inplace=True)\n",
    "test.image_top_1.fillna(-1, inplace=True)\n",
    "image_top_le.fit(catted.image_top_1)"
   ]
  },
  {
   "cell_type": "code",
   "execution_count": 10,
   "metadata": {},
   "outputs": [],
   "source": [
    "train.image_top_1 = image_top_le.transform(train.image_top_1)\n",
    "test.image_top_1 = image_top_le.transform(test.image_top_1)"
   ]
  },
  {
   "cell_type": "markdown",
   "metadata": {},
   "source": [
    "## priceの標準化"
   ]
  },
  {
   "cell_type": "code",
   "execution_count": 47,
   "metadata": {},
   "outputs": [],
   "source": [
    "from sklearn.preprocessing import StandardScaler\n",
    "from sklearn.preprocessing import Normalizer"
   ]
  },
  {
   "cell_type": "code",
   "execution_count": 48,
   "metadata": {},
   "outputs": [],
   "source": [
    "sc = StandardScaler()\n",
    "norm = Normalizer()"
   ]
  },
  {
   "cell_type": "code",
   "execution_count": 61,
   "metadata": {},
   "outputs": [],
   "source": [
    "catted.price.fillna(catted.price.mean(), inplace=True)"
   ]
  },
  {
   "cell_type": "code",
   "execution_count": 74,
   "metadata": {},
   "outputs": [],
   "source": [
    "a = sc.fit_transform(np.asarray(catted.price).reshape(-1,1))"
   ]
  },
  {
   "cell_type": "code",
   "execution_count": 79,
   "metadata": {},
   "outputs": [],
   "source": [
    "catted.price = a.reshape(-1)"
   ]
  },
  {
   "cell_type": "code",
   "execution_count": 81,
   "metadata": {},
   "outputs": [],
   "source": [
    "train.price = catted.price[:len(train)]"
   ]
  },
  {
   "cell_type": "code",
   "execution_count": 82,
   "metadata": {},
   "outputs": [],
   "source": [
    "test.price = catted.price[len(train):]"
   ]
  },
  {
   "cell_type": "markdown",
   "metadata": {},
   "source": [
    "## dumpしていく"
   ]
  },
  {
   "cell_type": "code",
   "execution_count": 11,
   "metadata": {},
   "outputs": [],
   "source": [
    "train_needed = train[['item_id','deal_probability','image','price','image_top_1', 'item_seq_number', 'category_name', 'region', 'city', 'user_id','user_type']]\n",
    "test_needed = test[['item_id', 'image','price','image_top_1', 'item_seq_number', 'category_name', 'region', 'city', 'user_id','user_type']]"
   ]
  },
  {
   "cell_type": "code",
   "execution_count": 98,
   "metadata": {},
   "outputs": [],
   "source": [
    "import joblib"
   ]
  },
  {
   "cell_type": "code",
   "execution_count": 99,
   "metadata": {},
   "outputs": [
    {
     "data": {
      "text/plain": [
       "['../data/features/test_base_feature.gz']"
      ]
     },
     "execution_count": 99,
     "metadata": {},
     "output_type": "execute_result"
    }
   ],
   "source": [
    "joblib.dump(train_needed, '../data/features/train_base_feature.gz', compress=3)\n",
    "joblib.dump(test_needed, '../data/features/test_base_feature.gz', compress=3)"
   ]
  },
  {
   "cell_type": "code",
   "execution_count": 12,
   "metadata": {},
   "outputs": [
    {
     "name": "stdout",
     "output_type": "stream",
     "text": [
      "category 47\n",
      "region 28\n",
      "city 1752\n",
      "user_id 1009909\n",
      "user_type 3\n",
      "image_top 3064\n"
     ]
    }
   ],
   "source": [
    "print('category',len(catted.category_name.value_counts()))\n",
    "print('region',len(catted.region.value_counts()))\n",
    "print('city',len(catted.city.value_counts()))\n",
    "print('user_id', len(catted.user_id.value_counts()))\n",
    "print('user_type', len(catted.user_type.value_counts()))\n",
    "print('image_top', len(catted.image_top_1.value_counts()))"
   ]
  },
  {
   "cell_type": "code",
   "execution_count": null,
   "metadata": {},
   "outputs": [],
   "source": []
  }
 ],
 "metadata": {
  "kernelspec": {
   "display_name": "Python 3",
   "language": "python",
   "name": "python3"
  },
  "language_info": {
   "codemirror_mode": {
    "name": "ipython",
    "version": 3
   },
   "file_extension": ".py",
   "mimetype": "text/x-python",
   "name": "python",
   "nbconvert_exporter": "python",
   "pygments_lexer": "ipython3",
   "version": "3.6.4"
  }
 },
 "nbformat": 4,
 "nbformat_minor": 2
}
