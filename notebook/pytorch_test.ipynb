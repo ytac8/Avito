{
 "cells": [
  {
   "cell_type": "code",
   "execution_count": 3,
   "metadata": {},
   "outputs": [],
   "source": [
    "import torch.nn as nn"
   ]
  },
  {
   "cell_type": "code",
   "execution_count": 16,
   "metadata": {},
   "outputs": [],
   "source": [
    "class Model1(nn.Module):\n",
    "    def __init__(self):\n",
    "        super(Model1, self).__init__()\n",
    "        self.linear1 =  nn.Linear(20, 10)\n",
    "        self.bn1 = nn.BatchNorm1d(10)\n",
    "        self.linear2 = nn.Linear(10, 2)\n",
    "    \n",
    "    def forward(self, input):\n",
    "        output = self.lnear1(input)\n",
    "        output = self.bn1(output)\n",
    "        output = self.linear2\n",
    "        return output"
   ]
  },
  {
   "cell_type": "code",
   "execution_count": 17,
   "metadata": {},
   "outputs": [],
   "source": [
    "model1 = Model1()"
   ]
  },
  {
   "cell_type": "code",
   "execution_count": 18,
   "metadata": {},
   "outputs": [
    {
     "data": {
      "text/plain": [
       "<bound method Module.parameters of Model1(\n",
       "  (linear1): Linear(in_features=20, out_features=10, bias=True)\n",
       "  (bn1): BatchNorm1d(10, eps=1e-05, momentum=0.1, affine=True, track_running_stats=True)\n",
       "  (linear2): Linear(in_features=10, out_features=2, bias=True)\n",
       ")>"
      ]
     },
     "execution_count": 18,
     "metadata": {},
     "output_type": "execute_result"
    }
   ],
   "source": [
    "model1.parameters\n"
   ]
  },
  {
   "cell_type": "code",
   "execution_count": 22,
   "metadata": {},
   "outputs": [],
   "source": [
    "class Model2(nn.Module):\n",
    "    def __init__(self, model1):\n",
    "        super(Model2, self).__init__()\n",
    "        self.l = nn.Linear(2, 200)\n",
    "        self.l2 = nn.Linear(200,2)\n",
    "        self.model1 = model1\n",
    "    \n",
    "    def forward(self, input):\n",
    "        output = self.l(input)\n",
    "        output = self.l2(output)\n",
    "        output = self.model1(output)\n",
    "        return output"
   ]
  },
  {
   "cell_type": "code",
   "execution_count": 23,
   "metadata": {},
   "outputs": [],
   "source": [
    "model2 = Model2(model1)"
   ]
  },
  {
   "cell_type": "code",
   "execution_count": 24,
   "metadata": {},
   "outputs": [
    {
     "data": {
      "text/plain": [
       "<bound method Module.parameters of Model2(\n",
       "  (l): Linear(in_features=2, out_features=200, bias=True)\n",
       "  (l2): Linear(in_features=200, out_features=2, bias=True)\n",
       "  (model1): Model1(\n",
       "    (linear1): Linear(in_features=20, out_features=10, bias=True)\n",
       "    (bn1): BatchNorm1d(10, eps=1e-05, momentum=0.1, affine=True, track_running_stats=True)\n",
       "    (linear2): Linear(in_features=10, out_features=2, bias=True)\n",
       "  )\n",
       ")>"
      ]
     },
     "execution_count": 24,
     "metadata": {},
     "output_type": "execute_result"
    }
   ],
   "source": [
    "model2.parameters"
   ]
  },
  {
   "cell_type": "code",
   "execution_count": null,
   "metadata": {},
   "outputs": [],
   "source": []
  }
 ],
 "metadata": {
  "kernelspec": {
   "display_name": "Python 3",
   "language": "python",
   "name": "python3"
  },
  "language_info": {
   "codemirror_mode": {
    "name": "ipython",
    "version": 3
   },
   "file_extension": ".py",
   "mimetype": "text/x-python",
   "name": "python",
   "nbconvert_exporter": "python",
   "pygments_lexer": "ipython3",
   "version": "3.6.4"
  }
 },
 "nbformat": 4,
 "nbformat_minor": 2
}
